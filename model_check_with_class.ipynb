{
 "cells": [
  {
   "cell_type": "code",
   "execution_count": null,
   "metadata": {},
   "outputs": [],
   "source": [
    "import pandas as pd\n",
    "from sklearn.model_selection import train_test_split\n",
    "from sklearn.ensemble import GradientBoostingClassifier\n",
    "from sklearn.preprocessing import StandardScaler\n",
    "from sklearn.metrics import classification_report\n",
    "\n",
    "# Load the dataset\n",
    "df = pd.read_csv('/content/sample_data/updated_sky_server.csv')\n",
    "\n",
    "# Feature columns: we'll use magnitudes (u, g, r, i, z), ra, dec, and redshift\n",
    "features = ['u', 'g', 'r', 'i', 'z', 'ra', 'dec', 'redshift']\n",
    "X = df[features]\n",
    "\n",
    "# Handle missing data in features (filling NaNs with the mean of each column)\n",
    "X.fillna(X.mean(), inplace=True)\n",
    "\n",
    "# Handle missing data in the target column 'class' (drop rows with NaN in 'class')\n",
    "df.dropna(subset=['class'], inplace=True)\n",
    "\n",
    "# Create labels based on the 'class' column (this is the true label we want to check against)\n",
    "# Map the 'class' column into integers (0 = star, 1 = galaxy, 2 = qso)\n",
    "y_true = df['class'].map({'STAR': 0, 'GALAXY': 1, 'QSO': 2})\n",
    "\n",
    "# Handle any possible NaN values that could be present after the mapping step\n",
    "y_true.dropna(inplace=True)\n",
    "\n",
    "# Preprocessing: Standardize the features\n",
    "scaler = StandardScaler()\n",
    "X_scaled = scaler.fit_transform(X)\n",
    "\n",
    "# Split the data into training and testing sets (80% train, 20% test)\n",
    "X_train, X_test, y_train, y_test = train_test_split(X_scaled, y_true, test_size=0.2, random_state=42)\n",
    "\n",
    "# Initialize and train the Gradient Boosting model\n",
    "model = GradientBoostingClassifier(n_estimators=100, random_state=42)\n",
    "model.fit(X_train, y_train)\n",
    "\n",
    "# Make predictions\n",
    "y_pred = model.predict(X_test)\n",
    "\n",
    "# Evaluate the model against the true class labels\n",
    "print(classification_report(y_test, y_pred, target_names=['star', 'galaxy', 'qso']))\n"
   ]
  }
 ],
 "metadata": {
  "language_info": {
   "name": "python"
  }
 },
 "nbformat": 4,
 "nbformat_minor": 2
}
